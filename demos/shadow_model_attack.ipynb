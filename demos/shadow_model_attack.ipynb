{
 "cells": [
  {
   "cell_type": "markdown",
   "id": "372af1c0",
   "metadata": {},
   "source": [
    "# Shadow Model Attack\n",
    "## Intuition\n",
    "This is the first-ever membership inference attack, presented by Shokri et al. https://arxiv.org/abs/1610.05820.\n",
    "The intuition behind this attack is that models often behave differently on the data that they were trained on versus the data they \"see\" for the first time.\n",
    "The simplest method for this is to build a model which distinguishes model outputs calculated on training vs non-training data.\n",
    "But how does the attacker know whether a sample was used for training or not?\n",
    "\n",
    "\n",
    "To solve this conundrum, the attack trains **shadow models** (proxies for the real model), where he knows the membership information of the samples and can easily collect the corresponding model outputs. \n",
    "\n",
    "\n",
    "The attacker trains _k_ shadow models on his own data, then queries training and non-training samples with these models. \n",
    "It creates a data set containing the sample's _true label_, the shadow model's _prediction_ and a binary label indicating whether or not it is a training sample (_in_ or _out_).\n",
    "It trains the attacker model (which can be any kind of binary classifier) on this dataset.\n",
    "Its input is the (_real label_, _prediction_) tuple and its output is _in_ or _out_ (meaning the sample is _in_ the training dataset or not).\n",
    "\n",
    "![title](img/shadow_model_attack.png)"
   ]
  },
  {
   "cell_type": "markdown",
   "id": "ad0cf711",
   "metadata": {},
   "source": [
    "## Overview\n",
    "How to implement the attack using ART.\n",
    "#### 1. [Preliminaries](#preliminaries)\n",
    "1. [Load data and target model](#load)\n",
    "2. [Wrap model in ART classifier wrapper](#wrap)\n",
    "\n",
    "#### 2. [Attack](#attack)\n",
    "1. [Define shadow model](#shadow)\n",
    "2. [Instantiate attack](#instantiate)\n",
    "3. [Fit the attack on shadow data](#fit)\n",
    "3. [Infer membership on evaluation data](#infer)"
   ]
  },
  {
   "cell_type": "code",
   "execution_count": 1,
   "id": "14ec28dc",
   "metadata": {},
   "outputs": [],
   "source": [
    "import torch\n",
    "from torch import nn\n",
    "from models.mnist import Net"
   ]
  },
  {
   "cell_type": "markdown",
   "id": "fb51212b",
   "metadata": {},
   "source": [
    "<a id='preliminaries'></a>\n",
    "## Preliminaries"
   ]
  },
  {
   "cell_type": "markdown",
   "id": "519a4a38",
   "metadata": {},
   "source": [
    "<a id='load'></a>\n",
    "### Load data and target model"
   ]
  },
  {
   "cell_type": "code",
   "execution_count": 2,
   "id": "abf08c18",
   "metadata": {},
   "outputs": [],
   "source": [
    "import numpy as np\n",
    "import os\n",
    "import sys\n",
    "sys.path.insert(0, os.path.abspath('..'))\n",
    "\n",
    "from art.utils import load_mnist\n",
    "\n",
    "# data\n",
    "(x_train, y_train), (x_test, y_test), _min, _max = load_mnist(raw=True)\n",
    "\n",
    "# limit training data to 50000 samples\n",
    "x_train_target = np.expand_dims(x_train, axis=1).astype(np.float32)[:50000]\n",
    "y_train_target = y_train[:50000]\n",
    "x_test = np.expand_dims(x_test, axis=1).astype(np.float32)\n",
    "\n",
    "# shadow data (10 000 disjunct samples)\n",
    "x_train_shadow = np.expand_dims(x_train, axis=1).astype(np.float32)[50000:]\n",
    "y_train_shadow = y_train[50000:]"
   ]
  },
  {
   "cell_type": "markdown",
   "id": "138e2f5f",
   "metadata": {},
   "source": [
    "<a id='wrap'></a>\n",
    "### Wrap model in PyTorchClassifier"
   ]
  },
  {
   "cell_type": "code",
   "execution_count": 3,
   "id": "8fea7099",
   "metadata": {},
   "outputs": [],
   "source": [
    "import torch.optim as optim\n",
    "from art.estimators.classification.pytorch import PyTorchClassifier\n",
    "\n",
    "model = Net()\n",
    "\n",
    "criterion = nn.CrossEntropyLoss()\n",
    "optimizer = optim.Adam(model.parameters())\n",
    "\n",
    "art_model = PyTorchClassifier(model=model, loss=criterion, optimizer=optimizer, channels_first=True, input_shape=(1,28,28,), nb_classes=10, clip_values=(_min,_max))"
   ]
  },
  {
   "cell_type": "markdown",
   "id": "91971aae",
   "metadata": {},
   "source": [
    "### Fit model if not already pretrained"
   ]
  },
  {
   "cell_type": "code",
   "execution_count": 4,
   "id": "be86eb60",
   "metadata": {},
   "outputs": [],
   "source": [
    "art_model.fit(x_train_target, y_train_target, nb_epochs=10)"
   ]
  },
  {
   "cell_type": "markdown",
   "id": "c502168f",
   "metadata": {},
   "source": [
    "#### Test accuracy"
   ]
  },
  {
   "cell_type": "code",
   "execution_count": 7,
   "id": "0389188b",
   "metadata": {},
   "outputs": [
    {
     "name": "stdout",
     "output_type": "stream",
     "text": [
      "Base model accuracy:  0.99304\n"
     ]
    }
   ],
   "source": [
    "pred = np.array([np.argmax(arr) for arr in art_model.predict(x_train_target)])\n",
    "\n",
    "print('Base model accuracy: ', np.sum(pred == y_train_target) / len(y_train_target))"
   ]
  },
  {
   "cell_type": "markdown",
   "id": "694cbe83",
   "metadata": {},
   "source": [
    "<a id='attack'></a>\n",
    "## Attack"
   ]
  },
  {
   "cell_type": "markdown",
   "id": "a51b33b3",
   "metadata": {},
   "source": [
    "<a id='shadow'></a>\n",
    "### Define shadow model\n",
    "\n",
    "We define a shadow model that will mirror the behaviour of the target model. An attacker with black-box knowledge is assumed, who does not know the architecture, model/training parameters of the target model. "
   ]
  },
  {
   "cell_type": "code",
   "execution_count": 38,
   "id": "dc8e5eac",
   "metadata": {},
   "outputs": [],
   "source": [
    "import torch.nn.functional as F\n",
    "class Linear_Net(nn.Module):\n",
    "    def __init__(self):\n",
    "        super(Linear_Net, self).__init__()\n",
    "        self.fc1 = nn.Linear(784, 128)\n",
    "        self.dropout = nn.Dropout(0.5)\n",
    "        self.fc2 = nn.Linear(128, 10)\n",
    "\n",
    "    def forward(self, x):\n",
    "        x = torch.flatten(x, 1)\n",
    "        x = self.fc1(x)\n",
    "        x = F.relu(x)\n",
    "        x = self.dropout(x)\n",
    "        x = self.fc2(x)\n",
    "        output = F.log_softmax(x, dim=1)\n",
    "        return output\n",
    "    \n",
    "shadow_model = Linear_Net()\n",
    "\n",
    "optimizer = optim.Adam(shadow_model.parameters())\n",
    "\n",
    "art_shadow_model = PyTorchClassifier(shadow_model, loss=criterion, optimizer=optimizer, channels_first=True, input_shape=(1,28,28,), nb_classes=10, clip_values=(_min,_max))"
   ]
  },
  {
   "cell_type": "markdown",
   "id": "53b196a5",
   "metadata": {},
   "source": [
    "<a id='instantiate'></a>\n",
    "### Instantiate attack\n",
    "\n",
    "Inputs to the attack:\n",
    "- target model\n",
    "- shadow model\n",
    "- number of shadow models to create\n",
    "- number of samples that the shadow models train on\n",
    "- input type (\"loss\" or \"prediction\")\n",
    "- attack model type (\"rf\" for Random Forest, \"gb\" for Gradient Boosting, or \"nn\" for neural network)\n",
    "\n",
    "You can also define your own custom attacker model and pass it to `attack_model` as an argument (if provided `attack_model_type` is ignored).  "
   ]
  },
  {
   "cell_type": "code",
   "execution_count": 39,
   "id": "42c5c595",
   "metadata": {},
   "outputs": [],
   "source": [
    "from art.attacks.inference.membership_inference import ShadowModelAttack\n",
    "\n",
    "shadow_model_atk = ShadowModelAttack(\n",
    "    art_model,\n",
    "    shadow_model=art_shadow_model,\n",
    "    nb_shadow_models=5,\n",
    "    shadow_dataset_size=3000,\n",
    "    input_type=\"prediction\",\n",
    "    attack_model_type=\"rf\"\n",
    ")"
   ]
  },
  {
   "cell_type": "markdown",
   "id": "c635729a",
   "metadata": {},
   "source": [
    "<a id='fit'></a>\n",
    "### Fit"
   ]
  },
  {
   "cell_type": "code",
   "execution_count": 40,
   "id": "e9951e1d",
   "metadata": {
    "scrolled": true
   },
   "outputs": [
    {
     "name": "stdout",
     "output_type": "stream",
     "text": [
      "Accuracy of shadow model (on test set): 0.919333\n",
      "Accuracy of shadow model (on test set): 0.908667\n",
      "Accuracy of shadow model (on test set): 0.908667\n",
      "Accuracy of shadow model (on test set): 0.924000\n",
      "Accuracy of shadow model (on test set): 0.913000\n"
     ]
    }
   ],
   "source": [
    "shadow_model_atk.fit(\n",
    "    x_train_shadow,\n",
    "    y_train_shadow,\n",
    "    x_test,\n",
    "    y_test,\n",
    "    nb_epochs=40,\n",
    ")"
   ]
  },
  {
   "cell_type": "markdown",
   "id": "a929de44",
   "metadata": {},
   "source": [
    "<a id='infer'></a>\n",
    "### Infer membeship on evaluation data\n",
    "\n",
    "We use the training data of the target model and the testing data for evaluation (10 000 samples each)."
   ]
  },
  {
   "cell_type": "code",
   "execution_count": 41,
   "id": "24d181dc",
   "metadata": {},
   "outputs": [],
   "source": [
    "membership = [1] * 10000 + [0] * 10000\n",
    "\n",
    "inferred_membership = shadow_model_atk.infer(np.concatenate([x_train_target[:10000], x_test]), np.concatenate([y_train_target[:10000], y_test]))"
   ]
  },
  {
   "cell_type": "code",
   "execution_count": 42,
   "id": "461f1bf5",
   "metadata": {},
   "outputs": [
    {
     "name": "stdout",
     "output_type": "stream",
     "text": [
      "Shadow model attack accuracy: 0.695700\n"
     ]
    }
   ],
   "source": [
    "from sklearn.metrics import accuracy_score\n",
    "\n",
    "acc = accuracy_score(membership, inferred_membership)\n",
    "\n",
    "print(\"Shadow model attack accuracy: %f\" % acc)"
   ]
  }
 ],
 "metadata": {
  "kernelspec": {
   "display_name": "art_kernel",
   "language": "python",
   "name": "art_kernel"
  },
  "language_info": {
   "codemirror_mode": {
    "name": "ipython",
    "version": 3
   },
   "file_extension": ".py",
   "mimetype": "text/x-python",
   "name": "python",
   "nbconvert_exporter": "python",
   "pygments_lexer": "ipython3",
   "version": "3.6.9"
  }
 },
 "nbformat": 4,
 "nbformat_minor": 5
}
