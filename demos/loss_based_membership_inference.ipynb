{
 "cells": [
  {
   "cell_type": "markdown",
   "id": "36e0d992",
   "metadata": {},
   "source": [
    "# Loss-based membership inference\n",
    "## Intuition\n",
    "This attack was presented in Yeom et al. https://arxiv.org/abs/1709.01604.\n",
    "The attack is very simple - the attacker determines _x_ as being a training sample, if its prediction loss is smaller than the average loss of all training samples, otherwise it infers it as a non-training sample. For this the attacker only needs to know a subset of the training samples to estimate their average loss."
   ]
  },
  {
   "cell_type": "markdown",
   "id": "024d929b",
   "metadata": {},
   "source": [
    "## Overview\n",
    "How to implement the attack using ART.\n",
    "#### 1. [Preliminaries](#preliminaries)\n",
    "1. [Load data and target model](#load)\n",
    "2. [Wrap model in ART classifier wrapper](#wrap)\n",
    "\n",
    "#### 2. [Attack](#attack)\n",
    "1. [Instantiate attack](#instantiate)\n",
    "2. [Fit the attack on shadow data](#fit)\n",
    "3. [Infer membership on evaluation data](#infer)"
   ]
  },
  {
   "cell_type": "code",
   "execution_count": 1,
   "id": "0eb69028",
   "metadata": {},
   "outputs": [],
   "source": [
    "import torch\n",
    "from torch import nn\n",
    "import numpy as np\n",
    "from models.mnist import Net"
   ]
  },
  {
   "cell_type": "markdown",
   "id": "f48754f9",
   "metadata": {},
   "source": [
    "<a id='preliminaries'></a>\n",
    "## Preliminaries"
   ]
  },
  {
   "cell_type": "markdown",
   "id": "4c953204",
   "metadata": {},
   "source": [
    "<a id='load'></a>\n",
    "### Load data and target model"
   ]
  },
  {
   "cell_type": "code",
   "execution_count": 2,
   "id": "c49ed3e9",
   "metadata": {},
   "outputs": [],
   "source": [
    "import os\n",
    "import sys\n",
    "sys.path.insert(0, os.path.abspath('..'))\n",
    "\n",
    "from art.utils import load_mnist\n",
    "\n",
    "# data\n",
    "(x_train, y_train), (x_test, y_test), _min, _max = load_mnist(raw=True)\n",
    "\n",
    "# limit training data to 1000 samples\n",
    "x_train = np.expand_dims(x_train, axis=1).astype(np.float32)[:1000]\n",
    "y_train = y_train[:1000]\n",
    "x_test = np.expand_dims(x_test, axis=1).astype(np.float32)"
   ]
  },
  {
   "cell_type": "markdown",
   "id": "3be38ec4",
   "metadata": {},
   "source": [
    "<a id='wrap'></a>\n",
    "### Wrap model in PyTorchClassifier"
   ]
  },
  {
   "cell_type": "code",
   "execution_count": 3,
   "id": "26bd1715",
   "metadata": {},
   "outputs": [],
   "source": [
    "import torch.optim as optim\n",
    "from art.estimators.classification.pytorch import PyTorchClassifier\n",
    "\n",
    "model = Net()\n",
    "\n",
    "criterion = nn.CrossEntropyLoss()\n",
    "optimizer = optim.Adam(model.parameters())\n",
    "\n",
    "art_model = PyTorchClassifier(model=model, loss=criterion, optimizer=optimizer, channels_first=True, input_shape=(1,28,28,), nb_classes=10, clip_values=(_min,_max))"
   ]
  },
  {
   "cell_type": "markdown",
   "id": "93048380",
   "metadata": {},
   "source": [
    "### Fit model if not already pretrained"
   ]
  },
  {
   "cell_type": "code",
   "execution_count": 4,
   "id": "a8651253",
   "metadata": {},
   "outputs": [],
   "source": [
    "art_model.fit(x_train, y_train, nb_epochs=10)"
   ]
  },
  {
   "cell_type": "markdown",
   "id": "10c9a4da",
   "metadata": {},
   "source": [
    "#### Train accuracy of the target model"
   ]
  },
  {
   "cell_type": "code",
   "execution_count": 5,
   "id": "8b19b7f2",
   "metadata": {},
   "outputs": [
    {
     "name": "stdout",
     "output_type": "stream",
     "text": [
      "Base model accuracy:  0.8549\n"
     ]
    }
   ],
   "source": [
    "pred = np.array([np.argmax(arr) for arr in art_model.predict(x_test)])\n",
    "\n",
    "print('Base model accuracy: ', np.sum(pred == y_test) / len(y_test))"
   ]
  },
  {
   "cell_type": "markdown",
   "id": "cbc286b8",
   "metadata": {},
   "source": [
    "#### Test accuracy of the target model"
   ]
  },
  {
   "cell_type": "code",
   "execution_count": 6,
   "id": "c261df15",
   "metadata": {},
   "outputs": [
    {
     "name": "stdout",
     "output_type": "stream",
     "text": [
      "Base model accuracy:  0.944\n"
     ]
    }
   ],
   "source": [
    "pred = np.array([np.argmax(arr) for arr in art_model.predict(x_train)])\n",
    "\n",
    "print('Base model accuracy: ', np.sum(pred == y_train) / len(y_train))"
   ]
  },
  {
   "cell_type": "markdown",
   "id": "f383af25",
   "metadata": {},
   "source": [
    "<a id='attack'></a>\n",
    "## Attack"
   ]
  },
  {
   "cell_type": "markdown",
   "id": "36149a05",
   "metadata": {},
   "source": [
    "<a id='instantiate'></a>\n",
    "### Instantiate attack\n",
    "\n",
    "Inputs to the attack:\n",
    "- target model"
   ]
  },
  {
   "cell_type": "code",
   "execution_count": 7,
   "id": "7b0839a3",
   "metadata": {},
   "outputs": [],
   "source": [
    "from art.attacks.inference.membership_inference import MembershipInferenceBlackBoxLossBased\n",
    "\n",
    "loss_based_attack = MembershipInferenceBlackBoxLossBased(art_model)"
   ]
  },
  {
   "cell_type": "markdown",
   "id": "e8c15783",
   "metadata": {},
   "source": [
    "<a id='fit'></a>\n",
    "### Fit\n",
    "\n",
    "The attacker knows 500 (out of the 1000) training samples."
   ]
  },
  {
   "cell_type": "code",
   "execution_count": 8,
   "id": "d3822ae8",
   "metadata": {},
   "outputs": [],
   "source": [
    "attacker_data_size = 500\n",
    "\n",
    "x_atk = x_train[:attacker_data_size]\n",
    "y_atk = y_train[:attacker_data_size]"
   ]
  },
  {
   "cell_type": "code",
   "execution_count": 9,
   "id": "ff6226a1",
   "metadata": {},
   "outputs": [],
   "source": [
    "loss_based_attack.fit(x_atk, y_atk)"
   ]
  },
  {
   "cell_type": "markdown",
   "id": "5905540e",
   "metadata": {},
   "source": [
    "<a id='infer'></a>\n",
    "### Infer membeship on evaluation data\n",
    "\n",
    "On 500 training and 500 testing samples."
   ]
  },
  {
   "cell_type": "code",
   "execution_count": 10,
   "id": "bf058a68",
   "metadata": {},
   "outputs": [],
   "source": [
    "from numpy.random import choice\n",
    "# evaluation data\n",
    "n = 500\n",
    "eval_train_idx = choice(len(x_train), n)\n",
    "eval_test_idx = choice(len(x_test), n)\n",
    "x = np.concatenate([x_train[eval_train_idx], x_test[eval_test_idx]])\n",
    "y = np.concatenate([y_train[eval_train_idx], y_test[eval_test_idx]])\n",
    "eval_label = np.array([1] * n + [0] * n)"
   ]
  },
  {
   "cell_type": "code",
   "execution_count": 11,
   "id": "7fcf2b9b",
   "metadata": {},
   "outputs": [],
   "source": [
    "pred_label = loss_based_attack.infer(x, y)"
   ]
  },
  {
   "cell_type": "markdown",
   "id": "1c109b5b",
   "metadata": {},
   "source": [
    "#### Attack accuracy"
   ]
  },
  {
   "cell_type": "code",
   "execution_count": 12,
   "id": "dc5cb260",
   "metadata": {},
   "outputs": [
    {
     "name": "stdout",
     "output_type": "stream",
     "text": [
      "Accuracy: 0.565000\n"
     ]
    }
   ],
   "source": [
    "from sklearn.metrics import accuracy_score\n",
    "\n",
    "print(\"Accuracy: %f\" % accuracy_score(eval_label, pred_label))"
   ]
  }
 ],
 "metadata": {
  "kernelspec": {
   "display_name": "art_kernel",
   "language": "python",
   "name": "art_kernel"
  },
  "language_info": {
   "codemirror_mode": {
    "name": "ipython",
    "version": 3
   },
   "file_extension": ".py",
   "mimetype": "text/x-python",
   "name": "python",
   "nbconvert_exporter": "python",
   "pygments_lexer": "ipython3",
   "version": "3.6.9"
  }
 },
 "nbformat": 4,
 "nbformat_minor": 5
}
