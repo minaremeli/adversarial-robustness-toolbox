{
 "cells": [
  {
   "cell_type": "markdown",
   "id": "166d8880",
   "metadata": {},
   "source": [
    "# Label-only Transfer Attack\n",
    "\n",
    "## Intuition\n",
    "This attack is the so-called \"Transfer attack\" from Li et al. (https://arxiv.org/abs/2007.15528).\n",
    "There are two types of models the attacker can query:\n",
    "- classifiers that output _only labels_ and \n",
    "- classifiers that output _confidence scores_.\n",
    "\n",
    "We assume that the attacker has his own data (_shadow dataset_) and the corresponding membership information about a model that outputs only labels. \n",
    "Using the outputs of the label-only model he constructs an attack which he can transfer to models that output confidence scores.\n",
    "\n",
    "### Stages of building the attack\n",
    "\n",
    "1. **Shadow dataset relabeling**:\n",
    "The attacker does not have access to the correct label of the data, therefore he uses the target model to create labels for his dataset.\n",
    "\n",
    "2. **Shadow model architecture selection**:\n",
    "The attacker can have white-box knowledge about the attacked model's architecture, but does not have to. He can use a different architecture, without much loss in attack performance.\n",
    "\n",
    "3. **Shadow model training**:\n",
    "The attacker trains the shadow model with its relabeled dataset.\n",
    "\n",
    "4. **Membership inferece**:\n",
    "He trains a membership inference model based on the shadow model's outputs.\n",
    "\n",
    "5. **Transfer**:\n",
    "Transfer attack on to model of choice.\n",
    "\n",
    "![title](img/transfer_attack.png)"
   ]
  },
  {
   "cell_type": "markdown",
   "id": "727d35bc",
   "metadata": {},
   "source": [
    "## Overview\n",
    "How to implement the attack using ART.\n",
    "#### 1. [Preliminaries](#preliminaries)\n",
    "1. [Load data and target model](#load)\n",
    "2. [Wrap model in ART classifier wrapper](#wrap)\n",
    "\n",
    "#### 2. [Attack](#attack)\n",
    "1. Define shadow model ([white-box](#shadow_wb), [black-box](#shadow_bb))\n",
    "2. Instantiate Membership Inference ([white-box](#instantiate_mi_wb), [black-box](#instantiate_mi_bb))\n",
    "3. Instantiate attack ([white-box](#instantiate_wb), [black-box](#instantiate_bb))\n",
    "4. Fit attack - _dataset relabeling, shadow model training, membership inference training_ ([white-box](#fit_wb), [black-box](#fit_bb))\n",
    "5. Transfer ([black-box](#transfer))\n",
    "6. Infer membership on evaluation data ([black-box](#infer))"
   ]
  },
  {
   "cell_type": "code",
   "execution_count": 1,
   "id": "fb85b8d1",
   "metadata": {},
   "outputs": [],
   "source": [
    "import torch\n",
    "from torch import nn\n",
    "from models.mnist import Net"
   ]
  },
  {
   "cell_type": "markdown",
   "id": "7a59d78d",
   "metadata": {},
   "source": [
    "<a id='preliminaries'></a>\n",
    "## Preliminaries"
   ]
  },
  {
   "cell_type": "markdown",
   "id": "7bd8b991",
   "metadata": {},
   "source": [
    "<a id='load'></a>\n",
    "### Load data and target model"
   ]
  },
  {
   "cell_type": "code",
   "execution_count": 2,
   "id": "ec1b568e",
   "metadata": {},
   "outputs": [],
   "source": [
    "import numpy as np\n",
    "import os\n",
    "import sys\n",
    "sys.path.insert(0, os.path.abspath('..'))\n",
    "\n",
    "from art.utils import load_mnist\n",
    "\n",
    "# data\n",
    "(x_train, y_train), (x_test, y_test), _min, _max = load_mnist(raw=True)\n",
    "\n",
    "# limit training data to 1000 samples\n",
    "x_train = np.expand_dims(x_train, axis=1).astype(np.float32)[:1000]\n",
    "y_train = y_train[:1000]\n",
    "x_test = np.expand_dims(x_test, axis=1).astype(np.float32)"
   ]
  },
  {
   "cell_type": "markdown",
   "id": "1a4450e5",
   "metadata": {},
   "source": [
    "<a id='wrap'></a>\n",
    "### Wrap model in PyTorchClassifier"
   ]
  },
  {
   "cell_type": "code",
   "execution_count": 3,
   "id": "a797f213",
   "metadata": {},
   "outputs": [],
   "source": [
    "import torch.optim as optim\n",
    "from art.estimators.classification.pytorch import PyTorchClassifier\n",
    "\n",
    "model = Net()\n",
    "\n",
    "criterion = nn.CrossEntropyLoss()\n",
    "optimizer = optim.Adam(model.parameters())\n",
    "\n",
    "art_model = PyTorchClassifier(model=model, loss=criterion, optimizer=optimizer, channels_first=True, input_shape=(1,28,28,), nb_classes=10, clip_values=(_min,_max))"
   ]
  },
  {
   "cell_type": "markdown",
   "id": "58556e17",
   "metadata": {},
   "source": [
    "### Fit model if not already pretrained"
   ]
  },
  {
   "cell_type": "code",
   "execution_count": 4,
   "id": "0c854d7d",
   "metadata": {},
   "outputs": [],
   "source": [
    "art_model.fit(x_train, y_train, nb_epochs=20)"
   ]
  },
  {
   "cell_type": "markdown",
   "id": "c3903dbe",
   "metadata": {},
   "source": [
    "#### Train accuracy"
   ]
  },
  {
   "cell_type": "code",
   "execution_count": 5,
   "id": "7f16e84a",
   "metadata": {},
   "outputs": [
    {
     "name": "stdout",
     "output_type": "stream",
     "text": [
      "Base model accuracy:  0.8681\n"
     ]
    }
   ],
   "source": [
    "pred = np.array([np.argmax(arr) for arr in art_model.predict(x_test)])\n",
    "\n",
    "print('Base model accuracy: ', np.sum(pred == y_test) / len(y_test))"
   ]
  },
  {
   "cell_type": "markdown",
   "id": "1f3bdf67",
   "metadata": {},
   "source": [
    "#### Test accuracy"
   ]
  },
  {
   "cell_type": "code",
   "execution_count": 6,
   "id": "e16943ce",
   "metadata": {
    "scrolled": true
   },
   "outputs": [
    {
     "name": "stdout",
     "output_type": "stream",
     "text": [
      "Base model accuracy:  0.977\n"
     ]
    }
   ],
   "source": [
    "pred = np.array([np.argmax(arr) for arr in art_model.predict(x_train)])\n",
    "\n",
    "print('Base model accuracy: ', np.sum(pred == y_train) / len(y_train))"
   ]
  },
  {
   "cell_type": "markdown",
   "id": "f17fc8f4",
   "metadata": {},
   "source": [
    "<a id='attack'></a>\n",
    "## Attack"
   ]
  },
  {
   "cell_type": "markdown",
   "id": "f6e86c29",
   "metadata": {},
   "source": [
    "<a id='shadow_wb'></a>\n",
    "### Define shadow model (white-box)\n",
    "In the white-box case the shadow model needs to have the same architecture as the targeted model.\n",
    "As before, create model and wrap it in ART classifier wrapper."
   ]
  },
  {
   "cell_type": "code",
   "execution_count": 7,
   "id": "70986b20",
   "metadata": {},
   "outputs": [],
   "source": [
    "shadow_model_wb = Net()\n",
    "\n",
    "optimizer = optim.Adam(shadow_model_wb.parameters())\n",
    "\n",
    "art_shadow_model_wb = PyTorchClassifier(shadow_model_wb, loss=criterion, optimizer=optimizer, channels_first=True, input_shape=(1,28,28,), nb_classes=10, clip_values=(_min,_max))"
   ]
  },
  {
   "cell_type": "markdown",
   "id": "3b22f70c",
   "metadata": {},
   "source": [
    "<a id='shadow_bb'></a>\n",
    "### Define shadow model (black-box)\n",
    "In the black box case we can select any sensible architecture for the shadow model."
   ]
  },
  {
   "cell_type": "code",
   "execution_count": 8,
   "id": "0f000125",
   "metadata": {},
   "outputs": [],
   "source": [
    "import torch.nn.functional as F\n",
    "class Linear_Net(nn.Module):\n",
    "    def __init__(self):\n",
    "        super(Linear_Net, self).__init__()\n",
    "        self.fc1 = nn.Linear(784, 128)\n",
    "        self.dropout = nn.Dropout(0.5)\n",
    "        self.fc2 = nn.Linear(128, 10)\n",
    "\n",
    "    def forward(self, x):\n",
    "        x = torch.flatten(x, 1)\n",
    "        x = self.fc1(x)\n",
    "        x = F.relu(x)\n",
    "        x = self.dropout(x)\n",
    "        x = self.fc2(x)\n",
    "        output = F.log_softmax(x, dim=1)\n",
    "        return output\n",
    "    \n",
    "shadow_model_bb = Linear_Net()\n",
    "\n",
    "optimizer = optim.Adam(shadow_model_bb.parameters())\n",
    "\n",
    "art_shadow_model_bb = PyTorchClassifier(shadow_model_bb, loss=criterion, optimizer=optimizer, channels_first=True, input_shape=(1,28,28,), nb_classes=10, clip_values=(_min,_max))"
   ]
  },
  {
   "cell_type": "markdown",
   "id": "615a3deb",
   "metadata": {},
   "source": [
    "<a id='instantiate_mi_wb'></a>\n",
    "### Instantiate Membership Inference (white-box)\n",
    "Inputs to the Membership Inference attack:\n",
    "- shadow model\n",
    "- input type (\"loss\" or \"prediction\")\n",
    "- attack model (in this case a Random Forest Classifier, but can be anything)"
   ]
  },
  {
   "cell_type": "code",
   "execution_count": null,
   "id": "ecd2f7e5",
   "metadata": {},
   "outputs": [],
   "source": [
    "from sklearn.ensemble import RandomForestClassifier\n",
    "from art.estimators.classification.scikitlearn import ScikitlearnRandomForestClassifier\n",
    "from art.attacks.inference.membership_inference import MembershipInferenceBlackBox\n",
    "\n",
    "membership_inference_wb = MembershipInferenceBlackBox(\n",
    "    art_shadow_model_wb,\n",
    "    input_type=\"loss\",\n",
    "    attack_model=ScikitlearnRandomForestClassifier(RandomForestClassifier())\n",
    ")"
   ]
  },
  {
   "cell_type": "markdown",
   "id": "7e83cf93",
   "metadata": {},
   "source": [
    "<a id='instantiate_mi_bb'></a>\n",
    "### Instantiate Membership Inference (black-box)"
   ]
  },
  {
   "cell_type": "code",
   "execution_count": null,
   "id": "a71969a2",
   "metadata": {},
   "outputs": [],
   "source": [
    "membership_inference_bb = MembershipInferenceBlackBox(\n",
    "    art_shadow_model_bb,\n",
    "    input_type=\"loss\",\n",
    "    attack_model=ScikitlearnRandomForestClassifier(RandomForestClassifier())\n",
    ")"
   ]
  },
  {
   "cell_type": "markdown",
   "id": "fd0b6c5a",
   "metadata": {},
   "source": [
    "<a id='instantiate_wb'></a>\n",
    "### Instantiate attack (white-box)\n",
    "Inputs to the attack:\n",
    "- target model\n",
    "- Membership Inference"
   ]
  },
  {
   "cell_type": "code",
   "execution_count": null,
   "id": "21d85cc7",
   "metadata": {},
   "outputs": [],
   "source": [
    "from art.attacks.inference.membership_inference import LabelOnlyTransferAttack\n",
    "\n",
    "attack_wb = LabelOnlyTransferAttack(\n",
    "    classifier=art_model,\n",
    "    membership_inference=membership_inference_wb,\n",
    ")"
   ]
  },
  {
   "cell_type": "markdown",
   "id": "2335c9e9",
   "metadata": {},
   "source": [
    "<a id='instantiate_bb'></a>\n",
    "### Instantiate attack (black-box)"
   ]
  },
  {
   "cell_type": "code",
   "execution_count": null,
   "id": "670f2f93",
   "metadata": {},
   "outputs": [],
   "source": [
    "attack_bb = LabelOnlyTransferAttack(\n",
    "    classifier=art_model,\n",
    "    membership_inference=membership_inference_bb,\n",
    ")"
   ]
  },
  {
   "cell_type": "markdown",
   "id": "4e4424a5",
   "metadata": {},
   "source": [
    "<a id='fit_wb'></a>\n",
    "### Fit white-box attack\n",
    "Fit attack on a subset of the training and testing samples.\n",
    "The `fit()` function relabels the shadow dataset, trains the shadow model and trains the membership inference attack.\n",
    "Inputs to `fit()`:\n",
    "- training data\n",
    "- testing data\n",
    "- shadow model training arguments (such as number of epochs, batch size, etc.) "
   ]
  },
  {
   "cell_type": "code",
   "execution_count": 9,
   "id": "fe9a40a1",
   "metadata": {},
   "outputs": [
    {
     "name": "stdout",
     "output_type": "stream",
     "text": [
      "Attacker knows 250 train samples and 250 test samples\n"
     ]
    }
   ],
   "source": [
    "attacker_data_size = 250\n",
    "print(\"Attacker knows %d train samples and %d test samples\" % (attacker_data_size, attacker_data_size))"
   ]
  },
  {
   "cell_type": "code",
   "execution_count": null,
   "id": "77ab78a9",
   "metadata": {
    "scrolled": true
   },
   "outputs": [],
   "source": [
    "# dataset relabeling, shadow model training, membership inference training\n",
    "attack_wb.fit(\n",
    "    x=x_train[:attacker_data_size],\n",
    "    test_x=x_test[:attacker_data_size],\n",
    "    nb_epochs=50,\n",
    ")"
   ]
  },
  {
   "cell_type": "markdown",
   "id": "7579fc05",
   "metadata": {},
   "source": [
    "<a id='fit_bb'></a>\n",
    "### Fit black-box attack"
   ]
  },
  {
   "cell_type": "code",
   "execution_count": null,
   "id": "4c5d9a45",
   "metadata": {},
   "outputs": [],
   "source": [
    "# dataset relabeling, shadow model training, membership inference training\n",
    "attack_bb.fit(\n",
    "    x=x_train[:attacker_data_size],\n",
    "    test_x=x_test[:attacker_data_size],\n",
    "    nb_epochs=50,\n",
    ")"
   ]
  },
  {
   "cell_type": "markdown",
   "id": "868905ca",
   "metadata": {},
   "source": [
    "### Transfer onto target model\n",
    "Suppose that the model which released only prediction labels suddenly begins to releases confidence scores as well. We transfer the attack onto this model and evaluate the white-box vs black-box approach on it."
   ]
  },
  {
   "cell_type": "code",
   "execution_count": 12,
   "id": "a4b14604",
   "metadata": {
    "scrolled": true
   },
   "outputs": [
    {
     "name": "stdout",
     "output_type": "stream",
     "text": [
      "Accuracy when attacker knows target architecture: 0.577000\n",
      "Accuracy when attacker does NOT know target architecture: 0.537500\n"
     ]
    }
   ],
   "source": [
    "from sklearn.metrics import accuracy_score\n",
    "import numpy as np\n",
    "num_samples = len(x_train)\n",
    "membership = [1] * num_samples + [0] * num_samples\n",
    "\n",
    "attack_wb.transfer(art_model)\n",
    "attack_bb.transfer(art_model)\n",
    "\n",
    "inferred_membership_wb = attack_wb.infer(np.concatenate([x_train, x_test[:num_samples]]))\n",
    "inferred_membership_bb = attack_bb.infer(np.concatenate([x_train, x_test[:num_samples]]))\n",
    "\n",
    "acc_wb = accuracy_score(membership, inferred_membership_wb)\n",
    "acc_bb = accuracy_score(membership, inferred_membership_bb)\n",
    "\n",
    "print(\"Accuracy when attacker knows target architecture: %f\" % acc_wb)\n",
    "print(\"Accuracy when attacker does NOT know target architecture: %f\" % acc_bb)"
   ]
  },
  {
   "cell_type": "markdown",
   "id": "774584a9",
   "metadata": {},
   "source": [
    "**White-box attacks can yield slightly better results than black-box attacks.**"
   ]
  },
  {
   "cell_type": "markdown",
   "id": "aa7d4d68",
   "metadata": {},
   "source": [
    "<a id='transfer'></a>\n",
    "### Transfer black-box attack onto different model\n",
    "\n",
    "Now that we have trained our shadow-model based attack on the predicted labels of the target model, let's see if it can predict membership on different models as well!"
   ]
  },
  {
   "cell_type": "markdown",
   "id": "505d27a2",
   "metadata": {},
   "source": [
    "#### Load other model (`MLP`) and fit"
   ]
  },
  {
   "cell_type": "code",
   "execution_count": 13,
   "id": "9efd6205",
   "metadata": {
    "scrolled": false
   },
   "outputs": [
    {
     "name": "stdout",
     "output_type": "stream",
     "text": [
      "Sequential(\n",
      "  (fc1): Linear(in_features=784, out_features=256, bias=True)\n",
      "  (relu1): ReLU()\n",
      "  (drop1): Dropout(p=0.2, inplace=False)\n",
      "  (fc2): Linear(in_features=256, out_features=256, bias=True)\n",
      "  (relu2): ReLU()\n",
      "  (drop2): Dropout(p=0.2, inplace=False)\n",
      "  (out): Linear(in_features=256, out_features=10, bias=True)\n",
      ")\n",
      "Base model accuracy:  0.8873\n"
     ]
    }
   ],
   "source": [
    "from models.mnist import MLP\n",
    "\n",
    "mlp_mnist = MLP(input_dims=784, n_hiddens=[256, 256], n_class=10)\n",
    "\n",
    "optimizer = optim.Adam(mlp_mnist.parameters())\n",
    "\n",
    "art_mlp_model = PyTorchClassifier(model=mlp_mnist, optimizer=optimizer, loss=criterion, channels_first=True, input_shape=(1,28,28,), nb_classes=10, clip_values=(_min,_max))\n",
    "\n",
    "art_mlp_model.fit(x_train, y_train, nb_epochs=20)\n",
    "\n",
    "pred = np.array([np.argmax(arr) for arr in art_mlp_model.predict(x_test)])\n",
    "\n",
    "print('Base model accuracy: ', np.sum(pred == y_test) / len(y_test))"
   ]
  },
  {
   "cell_type": "markdown",
   "id": "d9bb71c0",
   "metadata": {},
   "source": [
    "#### Transfer"
   ]
  },
  {
   "cell_type": "code",
   "execution_count": null,
   "id": "9c50c545",
   "metadata": {},
   "outputs": [],
   "source": [
    "attack_bb.transfer(art_mlp_model)"
   ]
  },
  {
   "cell_type": "markdown",
   "id": "703556e1",
   "metadata": {},
   "source": [
    "<a id='infer'></a>\n",
    "### Infer membeship on evaluation data"
   ]
  },
  {
   "cell_type": "code",
   "execution_count": 14,
   "id": "a278b00e",
   "metadata": {},
   "outputs": [
    {
     "name": "stdout",
     "output_type": "stream",
     "text": [
      "Transfer membership inference accuracy: 0.540500\n"
     ]
    }
   ],
   "source": [
    "inferred_membership = attack_bb.infer(np.concatenate([x_train, x_test[:num_samples]]))\n",
    "\n",
    "transfer_acc = accuracy_score(membership, inferred_membership)\n",
    "\n",
    "print(\"Transfer membership inference accuracy: %f\" % transfer_acc)"
   ]
  },
  {
   "cell_type": "markdown",
   "id": "d3b7b9d0",
   "metadata": {},
   "source": [
    "**The transferred membership inference maintains a similar accuracy as before.**"
   ]
  }
 ],
 "metadata": {
  "kernelspec": {
   "display_name": "art_kernel",
   "language": "python",
   "name": "art_kernel"
  },
  "language_info": {
   "codemirror_mode": {
    "name": "ipython",
    "version": 3
   },
   "file_extension": ".py",
   "mimetype": "text/x-python",
   "name": "python",
   "nbconvert_exporter": "python",
   "pygments_lexer": "ipython3",
   "version": "3.6.9"
  }
 },
 "nbformat": 4,
 "nbformat_minor": 5
}
