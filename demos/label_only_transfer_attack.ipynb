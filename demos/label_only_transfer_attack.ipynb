{
 "cells": [
  {
   "cell_type": "markdown",
   "id": "166d8880",
   "metadata": {},
   "source": [
    "# Label-only Transfer Attack\n",
    "\n",
    "## Intuition\n",
    "This attack is the so-called \"Transfer attack\" from Li et al. (https://arxiv.org/abs/2007.15528). This is an attack which first builds an attack based on the output labels of one model, then transfers this attack onto a  model which outputs confidence scores.\n",
    "\n",
    "### Stages of building the attack\n",
    "\n",
    "1. **Shadow dataset relabeling**:\n",
    "The attacker does not have access to the correct label of the data, therefore he uses the target model to create labels for his dataset.\n",
    "\n",
    "2. **Shadow model architecture selection**:\n",
    "The attacker can have white-box knowledge about the attacked model's architecture, but does not have to. He can use a different architecture, without much loss in attack performance.\n",
    "\n",
    "3. **Shadow model training**:\n",
    "The attacker trains the shadow model with its relabeled dataset.\n",
    "\n",
    "4. **Membership inferece**:\n",
    "He trains a membership inference model based on the shadow model's outputs.\n",
    "\n",
    "5. **Transfer**:\n",
    "Transfer attack on to model of choice.\n",
    "\n",
    "![title](img/transfer_attack.png)"
   ]
  },
  {
   "cell_type": "code",
   "execution_count": 1,
   "id": "fb85b8d1",
   "metadata": {},
   "outputs": [],
   "source": [
    "import torch\n",
    "from torch import nn\n",
    "from models.mnist import Net"
   ]
  },
  {
   "cell_type": "markdown",
   "id": "7bd8b991",
   "metadata": {},
   "source": [
    "## Load targeted model and data"
   ]
  },
  {
   "cell_type": "code",
   "execution_count": 2,
   "id": "ec1b568e",
   "metadata": {},
   "outputs": [],
   "source": [
    "import numpy as np\n",
    "import os\n",
    "import sys\n",
    "sys.path.insert(0, os.path.abspath('..'))\n",
    "\n",
    "from art.utils import load_mnist\n",
    "\n",
    "# data\n",
    "(x_train, y_train), (x_test, y_test), _min, _max = load_mnist(raw=True)\n",
    "\n",
    "x_train = np.expand_dims(x_train, axis=1).astype(np.float32)[:1000]\n",
    "y_train = y_train[:1000]\n",
    "x_test = np.expand_dims(x_test, axis=1).astype(np.float32)"
   ]
  },
  {
   "cell_type": "code",
   "execution_count": 3,
   "id": "a797f213",
   "metadata": {},
   "outputs": [],
   "source": [
    "import torch.optim as optim\n",
    "from art.estimators.classification.pytorch import PyTorchClassifier\n",
    "\n",
    "model = Net()\n",
    "\n",
    "criterion = nn.CrossEntropyLoss()\n",
    "optimizer = optim.Adam(model.parameters())\n",
    "\n",
    "art_model = PyTorchClassifier(model=model, loss=criterion, optimizer=optimizer, channels_first=True, input_shape=(1,28,28,), nb_classes=10, clip_values=(_min,_max))"
   ]
  },
  {
   "cell_type": "markdown",
   "id": "58556e17",
   "metadata": {},
   "source": [
    "### Fit model"
   ]
  },
  {
   "cell_type": "code",
   "execution_count": 4,
   "id": "0c854d7d",
   "metadata": {},
   "outputs": [],
   "source": [
    "art_model.fit(x_train, y_train, nb_epochs=20)"
   ]
  },
  {
   "cell_type": "markdown",
   "id": "c3903dbe",
   "metadata": {},
   "source": [
    "#### Train accuracy"
   ]
  },
  {
   "cell_type": "code",
   "execution_count": 5,
   "id": "7f16e84a",
   "metadata": {},
   "outputs": [
    {
     "name": "stdout",
     "output_type": "stream",
     "text": [
      "Base model accuracy:  0.8681\n"
     ]
    }
   ],
   "source": [
    "pred = np.array([np.argmax(arr) for arr in art_model.predict(x_test)])\n",
    "\n",
    "print('Base model accuracy: ', np.sum(pred == y_test) / len(y_test))"
   ]
  },
  {
   "cell_type": "markdown",
   "id": "1f3bdf67",
   "metadata": {},
   "source": [
    "#### Test accuracy"
   ]
  },
  {
   "cell_type": "code",
   "execution_count": 6,
   "id": "e16943ce",
   "metadata": {},
   "outputs": [
    {
     "name": "stdout",
     "output_type": "stream",
     "text": [
      "Base model accuracy:  0.977\n"
     ]
    }
   ],
   "source": [
    "pred = np.array([np.argmax(arr) for arr in art_model.predict(x_train)])\n",
    "\n",
    "print('Base model accuracy: ', np.sum(pred == y_train) / len(y_train))"
   ]
  },
  {
   "cell_type": "markdown",
   "id": "5ebfbc17",
   "metadata": {},
   "source": [
    "## Create shadow model\n"
   ]
  },
  {
   "cell_type": "markdown",
   "id": "f6e86c29",
   "metadata": {},
   "source": [
    "### Attacker knows base architecture (white-box)"
   ]
  },
  {
   "cell_type": "code",
   "execution_count": 7,
   "id": "70986b20",
   "metadata": {},
   "outputs": [],
   "source": [
    "shadow_model_wb = Net()\n",
    "\n",
    "optimizer = optim.Adam(shadow_model_wb.parameters())\n",
    "\n",
    "art_shadow_model_wb = PyTorchClassifier(shadow_model_wb, loss=criterion, optimizer=optimizer, channels_first=True, input_shape=(1,28,28,), nb_classes=10, clip_values=(_min,_max))"
   ]
  },
  {
   "cell_type": "markdown",
   "id": "3b22f70c",
   "metadata": {},
   "source": [
    "### Attacker does not know base architecture (black-box)"
   ]
  },
  {
   "cell_type": "code",
   "execution_count": 8,
   "id": "0f000125",
   "metadata": {},
   "outputs": [],
   "source": [
    "import torch.nn.functional as F\n",
    "class Linear_Net(nn.Module):\n",
    "    def __init__(self):\n",
    "        super(Linear_Net, self).__init__()\n",
    "        self.fc1 = nn.Linear(784, 128)\n",
    "        self.dropout = nn.Dropout(0.5)\n",
    "        self.fc2 = nn.Linear(128, 10)\n",
    "\n",
    "    def forward(self, x):\n",
    "        x = torch.flatten(x, 1)\n",
    "        x = self.fc1(x)\n",
    "        x = F.relu(x)\n",
    "        x = self.dropout(x)\n",
    "        x = self.fc2(x)\n",
    "        output = F.log_softmax(x, dim=1)\n",
    "        return output\n",
    "    \n",
    "shadow_model_bb = Linear_Net()\n",
    "\n",
    "optimizer = optim.Adam(shadow_model_bb.parameters())\n",
    "\n",
    "art_shadow_model_bb = PyTorchClassifier(shadow_model_bb, loss=criterion, optimizer=optimizer, channels_first=True, input_shape=(1,28,28,), nb_classes=10, clip_values=(_min,_max))"
   ]
  },
  {
   "cell_type": "markdown",
   "id": "615a3deb",
   "metadata": {},
   "source": [
    "## Attack"
   ]
  },
  {
   "cell_type": "code",
   "execution_count": 9,
   "id": "fe9a40a1",
   "metadata": {},
   "outputs": [
    {
     "name": "stdout",
     "output_type": "stream",
     "text": [
      "Attacker knows 250 train samples and 250 test samples\n"
     ]
    }
   ],
   "source": [
    "attacker_data_size = 250\n",
    "print(\"Attacker knows %d train samples and %d test samples\" % (attacker_data_size, attacker_data_size))"
   ]
  },
  {
   "cell_type": "markdown",
   "id": "4bf7c53e",
   "metadata": {},
   "source": [
    "### Fit white-box attack"
   ]
  },
  {
   "cell_type": "code",
   "execution_count": null,
   "id": "77ab78a9",
   "metadata": {
    "scrolled": true
   },
   "outputs": [],
   "source": [
    "from sklearn.ensemble import RandomForestClassifier\n",
    "from art.estimators.classification.scikitlearn import ScikitlearnRandomForestClassifier\n",
    "from art.attacks.inference.membership_inference import LabelOnlyTransferAttack, MembershipInferenceBlackBox\n",
    "\n",
    "membership_inference_wb = MembershipInferenceBlackBox(\n",
    "    art_shadow_model_wb,\n",
    "    input_type=\"loss\",\n",
    "    attack_model=ScikitlearnRandomForestClassifier(RandomForestClassifier())\n",
    ")\n",
    "\n",
    "attack_wb = LabelOnlyTransferAttack(\n",
    "    classifier=art_model,\n",
    "    membership_inference=membership_inference_wb,\n",
    ")\n",
    "\n",
    "# dataset relabeling, shadow model training, membership inference training\n",
    "attack_wb.fit(\n",
    "    x=x_train[:attacker_data_size],\n",
    "    test_x=x_test[:attacker_data_size],\n",
    "    nb_epochs=50,\n",
    ")"
   ]
  },
  {
   "cell_type": "markdown",
   "id": "7579fc05",
   "metadata": {},
   "source": [
    "### Fit black-box attack"
   ]
  },
  {
   "cell_type": "code",
   "execution_count": null,
   "id": "4c5d9a45",
   "metadata": {},
   "outputs": [],
   "source": [
    "membership_inference_bb = MembershipInferenceBlackBox(\n",
    "    art_shadow_model_bb,\n",
    "    input_type=\"loss\",\n",
    "    attack_model=ScikitlearnRandomForestClassifier(RandomForestClassifier())\n",
    ")\n",
    "\n",
    "attack_bb = LabelOnlyTransferAttack(\n",
    "    classifier=art_model,\n",
    "    membership_inference=membership_inference_bb,\n",
    ")\n",
    "\n",
    "# dataset relabeling, shadow model training, membership inference training\n",
    "attack_bb.fit(\n",
    "    x=x_train[:attacker_data_size],\n",
    "    test_x=x_test[:attacker_data_size],\n",
    "    nb_epochs=50,\n",
    ")"
   ]
  },
  {
   "cell_type": "markdown",
   "id": "868905ca",
   "metadata": {},
   "source": [
    "### Transfer attack on target model"
   ]
  },
  {
   "cell_type": "code",
   "execution_count": 12,
   "id": "a4b14604",
   "metadata": {
    "scrolled": true
   },
   "outputs": [
    {
     "name": "stdout",
     "output_type": "stream",
     "text": [
      "Accuracy when attacker knows target architecture: 0.577000\n",
      "Accuracy when attacker does NOT know target architecture: 0.537500\n"
     ]
    }
   ],
   "source": [
    "from sklearn.metrics import accuracy_score\n",
    "import numpy as np\n",
    "num_samples = len(x_train)\n",
    "membership = [1] * num_samples + [0] * num_samples\n",
    "\n",
    "attack_wb.transfer(art_model)\n",
    "attack_bb.transfer(art_model)\n",
    "\n",
    "inferred_membership_wb = attack_wb.infer(np.concatenate([x_train, x_test[:num_samples]]))\n",
    "inferred_membership_bb = attack_bb.infer(np.concatenate([x_train, x_test[:num_samples]]))\n",
    "\n",
    "acc_wb = accuracy_score(membership, inferred_membership_wb)\n",
    "acc_bb = accuracy_score(membership, inferred_membership_bb)\n",
    "\n",
    "print(\"Accuracy when attacker knows target architecture: %f\" % acc_wb)\n",
    "print(\"Accuracy when attacker does NOT know target architecture: %f\" % acc_bb)"
   ]
  },
  {
   "cell_type": "markdown",
   "id": "774584a9",
   "metadata": {},
   "source": [
    "**White-box attacks can yield slightly better results than black-box attacks.**"
   ]
  },
  {
   "cell_type": "markdown",
   "id": "aa7d4d68",
   "metadata": {},
   "source": [
    "### Transfer black-box attack on a different model\n",
    "\n",
    "Now that we have trained our shadow-model based attack on the predicted labels of the target model, let's see if it can predict membership on different models as well!"
   ]
  },
  {
   "cell_type": "markdown",
   "id": "505d27a2",
   "metadata": {},
   "source": [
    "#### Load other model (MLP) and fit"
   ]
  },
  {
   "cell_type": "code",
   "execution_count": 13,
   "id": "9efd6205",
   "metadata": {},
   "outputs": [
    {
     "name": "stdout",
     "output_type": "stream",
     "text": [
      "Sequential(\n",
      "  (fc1): Linear(in_features=784, out_features=256, bias=True)\n",
      "  (relu1): ReLU()\n",
      "  (drop1): Dropout(p=0.2, inplace=False)\n",
      "  (fc2): Linear(in_features=256, out_features=256, bias=True)\n",
      "  (relu2): ReLU()\n",
      "  (drop2): Dropout(p=0.2, inplace=False)\n",
      "  (out): Linear(in_features=256, out_features=10, bias=True)\n",
      ")\n",
      "Base model accuracy:  0.8873\n"
     ]
    }
   ],
   "source": [
    "from models.mnist import MLP\n",
    "\n",
    "mlp_mnist = MLP(input_dims=784, n_hiddens=[256, 256], n_class=10)\n",
    "\n",
    "optimizer = optim.Adam(mlp_mnist.parameters())\n",
    "\n",
    "art_mlp_model = PyTorchClassifier(model=mlp_mnist, optimizer=optimizer, loss=criterion, channels_first=True, input_shape=(1,28,28,), nb_classes=10, clip_values=(_min,_max))\n",
    "\n",
    "art_mlp_model.fit(x_train, y_train, nb_epochs=20)\n",
    "\n",
    "pred = np.array([np.argmax(arr) for arr in art_mlp_model.predict(x_test)])\n",
    "\n",
    "print('Base model accuracy: ', np.sum(pred == y_test) / len(y_test))"
   ]
  },
  {
   "cell_type": "code",
   "execution_count": 14,
   "id": "a278b00e",
   "metadata": {},
   "outputs": [
    {
     "name": "stdout",
     "output_type": "stream",
     "text": [
      "Transfer membership inference accuracy: 0.540500\n"
     ]
    }
   ],
   "source": [
    "attack_bb.transfer(art_mlp_model)\n",
    "\n",
    "inferred_membership = attack_bb.infer(np.concatenate([x_train, x_test[:num_samples]]))\n",
    "\n",
    "transfer_acc = accuracy_score(membership, inferred_membership)\n",
    "\n",
    "print(\"Transfer membership inference accuracy: %f\" % transfer_acc)"
   ]
  },
  {
   "cell_type": "markdown",
   "id": "d3b7b9d0",
   "metadata": {},
   "source": [
    "**The transferred membership inference maintains a similar accuracy as before.**"
   ]
  }
 ],
 "metadata": {
  "kernelspec": {
   "display_name": "art_kernel",
   "language": "python",
   "name": "art_kernel"
  },
  "language_info": {
   "codemirror_mode": {
    "name": "ipython",
    "version": 3
   },
   "file_extension": ".py",
   "mimetype": "text/x-python",
   "name": "python",
   "nbconvert_exporter": "python",
   "pygments_lexer": "ipython3",
   "version": "3.6.9"
  }
 },
 "nbformat": 4,
 "nbformat_minor": 5
}
